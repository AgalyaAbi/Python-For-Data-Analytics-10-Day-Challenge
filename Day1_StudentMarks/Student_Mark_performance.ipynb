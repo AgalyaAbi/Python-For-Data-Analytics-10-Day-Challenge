{
 "cells": [
  {
   "cell_type": "code",
   "execution_count": null,
   "id": "2a78613e-4179-484e-b27f-848720832c18",
   "metadata": {},
   "outputs": [],
   "source": [
    "#Student Mark Analytics\n",
    "#load libraries pandas,numpy\n",
    "import pandas as pd\n",
    "import numpy as np"
   ]
  },
  {
   "cell_type": "code",
   "execution_count": null,
   "id": "01910b84-55c0-4847-a48d-185b82d21e54",
   "metadata": {},
   "outputs": [],
   "source": [
    "#Datas Load\n",
    "import pandas as pd\n",
    "data=pd.read_csv(\"Student_Mark_Analytics.csv\")"
   ]
  },
  {
   "cell_type": "code",
   "execution_count": null,
   "id": "14c160c5-bc64-4662-8877-49e08ccc86c2",
   "metadata": {},
   "outputs": [
    {
     "data": {
      "text/html": [
       "<div>\n",
       "<style scoped>\n",
       "    .dataframe tbody tr th:only-of-type {\n",
       "        vertical-align: middle;\n",
       "    }\n",
       "\n",
       "    .dataframe tbody tr th {\n",
       "        vertical-align: top;\n",
       "    }\n",
       "\n",
       "    .dataframe thead th {\n",
       "        text-align: right;\n",
       "    }\n",
       "</style>\n",
       "<table border=\"1\" class=\"dataframe\">\n",
       "  <thead>\n",
       "    <tr style=\"text-align: right;\">\n",
       "      <th></th>\n",
       "      <th>Student ID</th>\n",
       "      <th>Name</th>\n",
       "      <th>Gender</th>\n",
       "      <th>Class</th>\n",
       "      <th>Attendance (%)</th>\n",
       "      <th>Hours Studied</th>\n",
       "      <th>Mathematics</th>\n",
       "      <th>Physics</th>\n",
       "      <th>Chemistry</th>\n",
       "      <th>Biology</th>\n",
       "      <th>English</th>\n",
       "      <th>Total Marks</th>\n",
       "      <th>Average (%)</th>\n",
       "      <th>Result</th>\n",
       "    </tr>\n",
       "  </thead>\n",
       "  <tbody>\n",
       "    <tr>\n",
       "      <th>0</th>\n",
       "      <td>STU1001</td>\n",
       "      <td>Ethan Williams</td>\n",
       "      <td>M</td>\n",
       "      <td>10A</td>\n",
       "      <td>92</td>\n",
       "      <td>3.5</td>\n",
       "      <td>85</td>\n",
       "      <td>78</td>\n",
       "      <td>90</td>\n",
       "      <td>82</td>\n",
       "      <td>88</td>\n",
       "      <td>423</td>\n",
       "      <td>84.6</td>\n",
       "      <td>P</td>\n",
       "    </tr>\n",
       "    <tr>\n",
       "      <th>1</th>\n",
       "      <td>STU1002</td>\n",
       "      <td>Sophia Garcia</td>\n",
       "      <td>F</td>\n",
       "      <td>10A</td>\n",
       "      <td>88</td>\n",
       "      <td>4.2</td>\n",
       "      <td>92</td>\n",
       "      <td>95</td>\n",
       "      <td>88</td>\n",
       "      <td>91</td>\n",
       "      <td>94</td>\n",
       "      <td>460</td>\n",
       "      <td>92.0</td>\n",
       "      <td>P</td>\n",
       "    </tr>\n",
       "    <tr>\n",
       "      <th>2</th>\n",
       "      <td>STU1003</td>\n",
       "      <td>Liam Johnson</td>\n",
       "      <td>M</td>\n",
       "      <td>10B</td>\n",
       "      <td>75</td>\n",
       "      <td>2.1</td>\n",
       "      <td>58</td>\n",
       "      <td>62</td>\n",
       "      <td>55</td>\n",
       "      <td>60</td>\n",
       "      <td>65</td>\n",
       "      <td>300</td>\n",
       "      <td>60.0</td>\n",
       "      <td>P</td>\n",
       "    </tr>\n",
       "    <tr>\n",
       "      <th>3</th>\n",
       "      <td>STU1004</td>\n",
       "      <td>Isabella Martinez</td>\n",
       "      <td>F</td>\n",
       "      <td>10B</td>\n",
       "      <td>96</td>\n",
       "      <td>5.0</td>\n",
       "      <td>89</td>\n",
       "      <td>91</td>\n",
       "      <td>93</td>\n",
       "      <td>87</td>\n",
       "      <td>92</td>\n",
       "      <td>452</td>\n",
       "      <td>90.4</td>\n",
       "      <td>P</td>\n",
       "    </tr>\n",
       "    <tr>\n",
       "      <th>4</th>\n",
       "      <td>STU1005</td>\n",
       "      <td>Noah Brown</td>\n",
       "      <td>M</td>\n",
       "      <td>11A</td>\n",
       "      <td>45</td>\n",
       "      <td>1.0</td>\n",
       "      <td>32</td>\n",
       "      <td>28</td>\n",
       "      <td>35</td>\n",
       "      <td>30</td>\n",
       "      <td>55</td>\n",
       "      <td>180</td>\n",
       "      <td>36.0</td>\n",
       "      <td>F</td>\n",
       "    </tr>\n",
       "  </tbody>\n",
       "</table>\n",
       "</div>"
      ],
      "text/plain": [
       "  Student ID               Name Gender Class  Attendance (%)  Hours Studied  \\\n",
       "0    STU1001     Ethan Williams      M   10A              92            3.5   \n",
       "1    STU1002      Sophia Garcia      F   10A              88            4.2   \n",
       "2    STU1003       Liam Johnson      M   10B              75            2.1   \n",
       "3    STU1004  Isabella Martinez      F   10B              96            5.0   \n",
       "4    STU1005         Noah Brown      M   11A              45            1.0   \n",
       "\n",
       "   Mathematics  Physics  Chemistry  Biology  English  Total Marks  \\\n",
       "0           85       78         90       82       88          423   \n",
       "1           92       95         88       91       94          460   \n",
       "2           58       62         55       60       65          300   \n",
       "3           89       91         93       87       92          452   \n",
       "4           32       28         35       30       55          180   \n",
       "\n",
       "   Average (%) Result  \n",
       "0         84.6      P  \n",
       "1         92.0      P  \n",
       "2         60.0      P  \n",
       "3         90.4      P  \n",
       "4         36.0      F  "
      ]
     },
     "execution_count": 7,
     "metadata": {},
     "output_type": "execute_result"
    }
   ],
   "source": [
    "#create dataframe \n",
    "# view the first five records\n",
    "import pandas as pd\n",
    "df= pd.DataFrame(data)\n",
    "df.head()"
   ]
  },
  {
   "cell_type": "code",
   "execution_count": null,
   "id": "a3b99017-5cf0-4501-aaba-f919797a9794",
   "metadata": {},
   "outputs": [
    {
     "data": {
      "text/plain": [
       "np.int64(100)"
      ]
     },
     "execution_count": 109,
     "metadata": {},
     "output_type": "execute_result"
    }
   ],
   "source": [
    "#Total no of Students\n",
    "df[\"Student ID\"].count()"
   ]
  },
  {
   "cell_type": "code",
   "execution_count": null,
   "id": "92af0e91-1d54-444b-8e3f-87f8bfc2c8f4",
   "metadata": {},
   "outputs": [
    {
     "name": "stdout",
     "output_type": "stream",
     "text": [
      "Gender\n",
      "F    50\n",
      "M    50\n",
      "Name: Student ID, dtype: int64\n"
     ]
    }
   ],
   "source": [
    "#Total No of Students by Gender\n",
    "Gen_count=df.groupby('Gender')['Student ID'].count()\n",
    "print(Gen_count)"
   ]
  },
  {
   "cell_type": "code",
   "execution_count": null,
   "id": "27050749-fb99-404d-8918-df3579c66d4b",
   "metadata": {},
   "outputs": [
    {
     "name": "stdout",
     "output_type": "stream",
     "text": [
      "Mathematics    73.39\n",
      "Physics        72.57\n",
      "Chemistry      73.84\n",
      "Biology        72.90\n",
      "English        77.28\n",
      "dtype: float64\n"
     ]
    }
   ],
   "source": [
    "#Average marks by each subject\n",
    "Sub=df[['Mathematics','Physics','Chemistry','Biology','English']].mean()\n",
    "print(Sub)"
   ]
  },
  {
   "cell_type": "code",
   "execution_count": null,
   "id": "692afb62-1f36-41bc-9cee-5f8e23d6324a",
   "metadata": {},
   "outputs": [
    {
     "name": "stdout",
     "output_type": "stream",
     "text": [
      "50\n"
     ]
    }
   ],
   "source": [
    "#Number of students above 80(Toppers_Count)\n",
    "top_avg=df[df['Average (%)'] > 80]['Name'].count()\n",
    "print(top_avg)"
   ]
  },
  {
   "cell_type": "code",
   "execution_count": null,
   "id": "f1dd1850-f124-4c1c-a5fe-b6130eb03d7a",
   "metadata": {},
   "outputs": [
    {
     "data": {
      "text/plain": [
       "Result\n",
       "F    14\n",
       "P    86\n",
       "Name: Student ID, dtype: int64"
      ]
     },
     "execution_count": 22,
     "metadata": {},
     "output_type": "execute_result"
    }
   ],
   "source": [
    "#Count no of students with their result\n",
    "df.groupby('Result')['Student ID'].count()"
   ]
  },
  {
   "cell_type": "code",
   "execution_count": null,
   "id": "a9a5e2bb-6e7e-4d42-b235-d7f985ba889a",
   "metadata": {},
   "outputs": [
    {
     "name": "stdout",
     "output_type": "stream",
     "text": [
      "                 Name  Total Marks\n",
      "95  Willow Richardson          496\n",
      "45        Lily Bailey          484\n",
      "55      Aurora Watson          483\n",
      "75   Quinn Washington          482\n",
      "91     Madeline Price          478\n"
     ]
    }
   ],
   "source": [
    "#Top 5 Well Scored Students with marks\n",
    "Top_Five=df.nlargest(5,'Total Marks')[['Name','Total Marks']]\n",
    "print(Top_Five)"
   ]
  },
  {
   "cell_type": "code",
   "execution_count": null,
   "id": "31c57561-8d4e-4c1d-8234-2d14f72d5fec",
   "metadata": {},
   "outputs": [
    {
     "data": {
      "text/plain": [
       "Name           Naomi Henderson\n",
       "Class                      12A\n",
       "Total Marks                363\n",
       "Result                       P\n",
       "Name: 99, dtype: object"
      ]
     },
     "execution_count": 117,
     "metadata": {},
     "output_type": "execute_result"
    }
   ],
   "source": [
    "#Student with top score on maths\n",
    "df.loc[df.sort_values('Mathematics',ascending=False)['Mathematics'].max(),['Name','Class','Total Marks','Result']]"
   ]
  },
  {
   "cell_type": "code",
   "execution_count": null,
   "id": "2a54d440-2aa4-48e5-910a-a7d44d17a348",
   "metadata": {},
   "outputs": [
    {
     "data": {
      "text/plain": [
       "Name     Owen Morgan\n",
       "Class            10B\n",
       "Name: 42, dtype: object"
      ]
     },
     "execution_count": 115,
     "metadata": {},
     "output_type": "execute_result"
    }
   ],
   "source": [
    "#Student and his class with low attendance\n",
    "df.loc[df.sort_values('Attendance (%)',ascending=True)['Attendance (%)'].min(),['Name','Class']]"
   ]
  },
  {
   "cell_type": "code",
   "execution_count": null,
   "id": "05f7f5c9-321d-448f-9fbf-409c18c96836",
   "metadata": {},
   "outputs": [
    {
     "data": {
      "text/plain": [
       "Class\n",
       "10A    478\n",
       "10B    452\n",
       "11A    496\n",
       "11B    415\n",
       "12A    465\n",
       "Name: Total Marks, dtype: int64"
      ]
     },
     "execution_count": 48,
     "metadata": {},
     "output_type": "execute_result"
    }
   ],
   "source": [
    "#Class wise maximum score\n",
    "df.groupby('Class')['Total Marks'].max()"
   ]
  },
  {
   "cell_type": "code",
   "execution_count": null,
   "id": "854927d3-0264-4bf3-8238-ec8ca88ec28c",
   "metadata": {},
   "outputs": [
    {
     "data": {
      "text/plain": [
       "Class\n",
       "10A    95.6\n",
       "10B    90.4\n",
       "11A    99.2\n",
       "11B    83.0\n",
       "12A    93.0\n",
       "Name: Average (%), dtype: float64"
      ]
     },
     "execution_count": 108,
     "metadata": {},
     "output_type": "execute_result"
    }
   ],
   "source": [
    "#Class with maximum Percent\n",
    "df.groupby('Class')['Average (%)'].max()"
   ]
  },
  {
   "cell_type": "code",
   "execution_count": null,
   "id": "86ea2a3d-fb73-43a7-9d44-5537fb5074ad",
   "metadata": {},
   "outputs": [
    {
     "data": {
      "text/plain": [
       "Name     Owen Morgan\n",
       "Class            10B\n",
       "Name: 42, dtype: object"
      ]
     },
     "execution_count": 112,
     "metadata": {},
     "output_type": "execute_result"
    }
   ],
   "source": [
    "#Low attendance candidate\n",
    "df.loc[df['Attendance (%)'].min(),['Name','Class']]"
   ]
  },
  {
   "cell_type": "code",
   "execution_count": null,
   "id": "cb372562-ff45-4dd1-ac9a-1494db0fe7ae",
   "metadata": {},
   "outputs": [
    {
     "name": "stdout",
     "output_type": "stream",
     "text": [
      "              Name  Total Marks\n",
      "94    Hunter James          123\n",
      "84  Aaron Peterson          140\n",
      "64   Nathan Foster          151\n",
      "44     John Murphy          155\n",
      "24     Henry Baker          161\n"
     ]
    }
   ],
   "source": [
    "#Bottom 5 students with low scores\n",
    "btm_Five=df.nsmallest(5,'Total Marks')[['Name','Total Marks']]\n",
    "print(btm_Five)"
   ]
  },
  {
   "cell_type": "code",
   "execution_count": null,
   "id": "4a7734ea-f6c5-473c-ba39-8d74413d2f6d",
   "metadata": {},
   "outputs": [
    {
     "data": {
      "image/png": "[encoded data removed]",
      "text/plain": [
       "<Figure size 640x480 with 1 Axes>"
      ]
     },
     "metadata": {},
     "output_type": "display_data"
    }
   ],
   "source": [
    "#Graph a scatter chart for subject 'Physics,Chemistry'\n",
    "from matplotlib import pyplot as plt\n",
    "plt.scatter(df['Physics'],df['Chemistry'],marker='*')\n",
    "plt.title('phy vs chem')\n",
    "plt.xlabel('physisct_Marks')\n",
    "plt.ylabel('Chemistry_Marks')\n",
    "plt.show()"
   ]
  },
  {
   "cell_type": "code",
   "execution_count": null,
   "id": "10e86e3c-e896-4d49-8e66-f46d91f672fc",
   "metadata": {},
   "outputs": [
    {
     "data": {
      "image/png": "[encoded data removed]",
      "text/plain": [
       "<Figure size 640x480 with 1 Axes>"
      ]
     },
     "metadata": {},
     "output_type": "display_data"
    }
   ],
   "source": [
    "#Graph a bar chart to visualize a avg marks of all subject\n",
    "from matplotlib import pyplot as plt\n",
    "df[['Mathematics','Physics','Chemistry','Biology','English']].mean().plot(kind='bar')\n",
    "plt.title('Avg_Markes')\n",
    "plt.show()"
   ]
  },
  {
   "cell_type": "code",
   "execution_count": null,
   "id": "a81c2a29-18ca-4382-8644-9ce6e663181a",
   "metadata": {},
   "outputs": [
    {
     "name": "stdout",
     "output_type": "stream",
     "text": [
      "Class         10A    10B    11A    11B    12A\n",
      "Student ID                                   \n",
      "STU1001     423.0    NaN    NaN    NaN    NaN\n",
      "STU1002     460.0    NaN    NaN    NaN    NaN\n",
      "STU1003       NaN  300.0    NaN    NaN    NaN\n",
      "STU1004       NaN  452.0    NaN    NaN    NaN\n",
      "STU1005       NaN    NaN  180.0    NaN    NaN\n",
      "...           ...    ...    ...    ...    ...\n",
      "STU1096       NaN    NaN  496.0    NaN    NaN\n",
      "STU1097       NaN    NaN    NaN  383.0    NaN\n",
      "STU1098       NaN    NaN    NaN  415.0    NaN\n",
      "STU1099       NaN    NaN    NaN    NaN  465.0\n",
      "STU1100       NaN    NaN    NaN    NaN  363.0\n",
      "\n",
      "[100 rows x 5 columns]\n"
     ]
    }
   ],
   "source": [
    "#create a basic pivot view of data with class and students\n",
    "pivot=df.pivot(values='Total Marks',index='Student ID',columns='Class')\n",
    "print(pivot)"
   ]
  },
  {
   "cell_type": "code",
   "execution_count": null,
   "id": "99f06eae-0e60-4cae-8fd6-93d3a6b73df0",
   "metadata": {},
   "outputs": [
    {
     "data": {
      "text/plain": [
       "Text(0, 0.5, 'Gender')"
      ]
     },
     "execution_count": 90,
     "metadata": {},
     "output_type": "execute_result"
    },
    {
     "data": {
      "image/png": "[encoded data removed]",
      "text/plain": [
       "<Figure size 640x480 with 1 Axes>"
      ]
     },
     "metadata": {},
     "output_type": "display_data"
    }
   ],
   "source": [
    "#Graph a horizontal bar chart for analysing the genderwise student performance\n",
    "plt.barh(df['Gender'],df['Average (%)'],color='Red')\n",
    "plt.title('GenderWise_Avg%')\n",
    "plt.xlabel('Avg%')\n",
    "plt.ylabel('Gender')"
   ]
  },
  {
   "cell_type": "code",
   "execution_count": null,
   "id": "bf893c3a-f0b5-4879-b3f7-c5ab4e20ba41",
   "metadata": {},
   "outputs": [
    {
     "data": {
      "text/plain": [
       "4           Noah Brown\n",
       "9         Emma Jackson\n",
       "14        Elijah Clark\n",
       "24         Henry Baker\n",
       "29    Victoria Roberts\n",
       "34        Samuel Evans\n",
       "44         John Murphy\n",
       "49            Nova Cox\n",
       "54         Dylan James\n",
       "64       Nathan Foster\n",
       "74       Thomas Watson\n",
       "84      Aaron Peterson\n",
       "92        Cameron Ward\n",
       "94        Hunter James\n",
       "Name: Name, dtype: object"
      ]
     },
     "execution_count": 88,
     "metadata": {},
     "output_type": "execute_result"
    }
   ],
   "source": [
    "#List the students who are failed\n",
    "df.loc[df['Result']=='F','Name']"
   ]
  },
  {
   "cell_type": "code",
   "execution_count": null,
   "id": "b3cf4a06-f540-4162-b0cb-5371c8d377a9",
   "metadata": {},
   "outputs": [],
   "source": []
  }
 ],
 "metadata": {
  "kernelspec": {
   "display_name": "Python [conda env:base] *",
   "language": "python",
   "name": "conda-base-py"
  },
  "language_info": {
   "codemirror_mode": {
    "name": "ipython",
    "version": 3
   },
   "file_extension": ".py",
   "mimetype": "text/x-python",
   "name": "python",
   "nbconvert_exporter": "python",
   "pygments_lexer": "ipython3",
   "version": "3.13.5"
  }
 },
 "nbformat": 4,
 "nbformat_minor": 5
}
