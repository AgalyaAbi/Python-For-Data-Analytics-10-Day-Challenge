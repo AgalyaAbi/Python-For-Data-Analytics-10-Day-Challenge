{
 "cells": [
  {
   "cell_type": "code",
   "execution_count": 1,
   "id": "7c8b8f19-89eb-4773-a785-5de129eeb3ae",
   "metadata": {},
   "outputs": [],
   "source": [
    "#Sales_Data Analytics \n",
    "#import libraries\n",
    "import pandas as pd\n",
    "from matplotlib import pyplot as pd"
   ]
  },
  {
   "cell_type": "code",
   "execution_count": 7,
   "id": "2c67451d-6688-471d-913d-bccdc98ccbd7",
   "metadata": {},
   "outputs": [
    {
     "data": {
      "text/html": [
       "<div>\n",
       "<style scoped>\n",
       "    .dataframe tbody tr th:only-of-type {\n",
       "        vertical-align: middle;\n",
       "    }\n",
       "\n",
       "    .dataframe tbody tr th {\n",
       "        vertical-align: top;\n",
       "    }\n",
       "\n",
       "    .dataframe thead th {\n",
       "        text-align: right;\n",
       "    }\n",
       "</style>\n",
       "<table border=\"1\" class=\"dataframe\">\n",
       "  <thead>\n",
       "    <tr style=\"text-align: right;\">\n",
       "      <th></th>\n",
       "      <th>Product_ID</th>\n",
       "      <th>Sale_Date</th>\n",
       "      <th>Sales_Rep</th>\n",
       "      <th>Region</th>\n",
       "      <th>Sales_Amount</th>\n",
       "      <th>Quantity_Sold</th>\n",
       "      <th>Product_Category</th>\n",
       "      <th>Unit_Cost</th>\n",
       "      <th>Unit_Price</th>\n",
       "      <th>Customer_Type</th>\n",
       "      <th>Discount</th>\n",
       "      <th>Payment_Method</th>\n",
       "      <th>Sales_Channel</th>\n",
       "      <th>Region_and_Sales_Rep</th>\n",
       "    </tr>\n",
       "  </thead>\n",
       "  <tbody>\n",
       "    <tr>\n",
       "      <th>0</th>\n",
       "      <td>1052</td>\n",
       "      <td>2023-02-03</td>\n",
       "      <td>Bob</td>\n",
       "      <td>North</td>\n",
       "      <td>5053.97</td>\n",
       "      <td>18</td>\n",
       "      <td>Furniture</td>\n",
       "      <td>152.75</td>\n",
       "      <td>267.22</td>\n",
       "      <td>Returning</td>\n",
       "      <td>0.09</td>\n",
       "      <td>Cash</td>\n",
       "      <td>Online</td>\n",
       "      <td>North-Bob</td>\n",
       "    </tr>\n",
       "    <tr>\n",
       "      <th>1</th>\n",
       "      <td>1093</td>\n",
       "      <td>2023-04-21</td>\n",
       "      <td>Bob</td>\n",
       "      <td>West</td>\n",
       "      <td>4384.02</td>\n",
       "      <td>17</td>\n",
       "      <td>Furniture</td>\n",
       "      <td>3816.39</td>\n",
       "      <td>4209.44</td>\n",
       "      <td>Returning</td>\n",
       "      <td>0.11</td>\n",
       "      <td>Cash</td>\n",
       "      <td>Retail</td>\n",
       "      <td>West-Bob</td>\n",
       "    </tr>\n",
       "    <tr>\n",
       "      <th>2</th>\n",
       "      <td>1015</td>\n",
       "      <td>2023-09-21</td>\n",
       "      <td>David</td>\n",
       "      <td>South</td>\n",
       "      <td>4631.23</td>\n",
       "      <td>30</td>\n",
       "      <td>Food</td>\n",
       "      <td>261.56</td>\n",
       "      <td>371.40</td>\n",
       "      <td>Returning</td>\n",
       "      <td>0.20</td>\n",
       "      <td>Bank Transfer</td>\n",
       "      <td>Retail</td>\n",
       "      <td>South-David</td>\n",
       "    </tr>\n",
       "    <tr>\n",
       "      <th>3</th>\n",
       "      <td>1072</td>\n",
       "      <td>2023-08-24</td>\n",
       "      <td>Bob</td>\n",
       "      <td>South</td>\n",
       "      <td>2167.94</td>\n",
       "      <td>39</td>\n",
       "      <td>Clothing</td>\n",
       "      <td>4330.03</td>\n",
       "      <td>4467.75</td>\n",
       "      <td>New</td>\n",
       "      <td>0.02</td>\n",
       "      <td>Credit Card</td>\n",
       "      <td>Retail</td>\n",
       "      <td>South-Bob</td>\n",
       "    </tr>\n",
       "    <tr>\n",
       "      <th>4</th>\n",
       "      <td>1061</td>\n",
       "      <td>2023-03-24</td>\n",
       "      <td>Charlie</td>\n",
       "      <td>East</td>\n",
       "      <td>3750.20</td>\n",
       "      <td>13</td>\n",
       "      <td>Electronics</td>\n",
       "      <td>637.37</td>\n",
       "      <td>692.71</td>\n",
       "      <td>New</td>\n",
       "      <td>0.08</td>\n",
       "      <td>Credit Card</td>\n",
       "      <td>Online</td>\n",
       "      <td>East-Charlie</td>\n",
       "    </tr>\n",
       "  </tbody>\n",
       "</table>\n",
       "</div>"
      ],
      "text/plain": [
       "   Product_ID   Sale_Date Sales_Rep Region  Sales_Amount  Quantity_Sold  \\\n",
       "0        1052  2023-02-03       Bob  North       5053.97             18   \n",
       "1        1093  2023-04-21       Bob   West       4384.02             17   \n",
       "2        1015  2023-09-21     David  South       4631.23             30   \n",
       "3        1072  2023-08-24       Bob  South       2167.94             39   \n",
       "4        1061  2023-03-24   Charlie   East       3750.20             13   \n",
       "\n",
       "  Product_Category  Unit_Cost  Unit_Price Customer_Type  Discount  \\\n",
       "0        Furniture     152.75      267.22     Returning      0.09   \n",
       "1        Furniture    3816.39     4209.44     Returning      0.11   \n",
       "2             Food     261.56      371.40     Returning      0.20   \n",
       "3         Clothing    4330.03     4467.75           New      0.02   \n",
       "4      Electronics     637.37      692.71           New      0.08   \n",
       "\n",
       "  Payment_Method Sales_Channel Region_and_Sales_Rep  \n",
       "0           Cash        Online            North-Bob  \n",
       "1           Cash        Retail             West-Bob  \n",
       "2  Bank Transfer        Retail          South-David  \n",
       "3    Credit Card        Retail            South-Bob  \n",
       "4    Credit Card        Online         East-Charlie  "
      ]
     },
     "execution_count": 7,
     "metadata": {},
     "output_type": "execute_result"
    }
   ],
   "source": [
    "#load dataset\n",
    "import pandas as pd\n",
    "data=pd.read_csv(\"sales_data.csv\")\n",
    "df=pd.DataFrame(data)\n",
    "df.head()"
   ]
  },
  {
   "cell_type": "code",
   "execution_count": 13,
   "id": "a806012d-e1b2-4336-ab39-dafb7c915752",
   "metadata": {},
   "outputs": [
    {
     "name": "stdout",
     "output_type": "stream",
     "text": [
      "<class 'pandas.core.frame.DataFrame'>\n",
      "RangeIndex: 1000 entries, 0 to 999\n",
      "Data columns (total 14 columns):\n",
      " #   Column                Non-Null Count  Dtype  \n",
      "---  ------                --------------  -----  \n",
      " 0   Product_ID            1000 non-null   int64  \n",
      " 1   Sale_Date             1000 non-null   object \n",
      " 2   Sales_Rep             1000 non-null   object \n",
      " 3   Region                1000 non-null   object \n",
      " 4   Sales_Amount          1000 non-null   float64\n",
      " 5   Quantity_Sold         1000 non-null   int64  \n",
      " 6   Product_Category      1000 non-null   object \n",
      " 7   Unit_Cost             1000 non-null   float64\n",
      " 8   Unit_Price            1000 non-null   float64\n",
      " 9   Customer_Type         1000 non-null   object \n",
      " 10  Discount              1000 non-null   float64\n",
      " 11  Payment_Method        1000 non-null   object \n",
      " 12  Sales_Channel         1000 non-null   object \n",
      " 13  Region_and_Sales_Rep  1000 non-null   object \n",
      "dtypes: float64(4), int64(2), object(8)\n",
      "memory usage: 109.5+ KB\n",
      "None \n",
      "\n",
      "Aggregation:\n",
      "       Sales_Amount  Quantity_Sold\n",
      "min      100.12000          1.000\n",
      "max     9989.04000         49.000\n",
      "mean    5019.26523         25.355\n"
     ]
    }
   ],
   "source": [
    "print(df.info(),\"\\n\")\n",
    "print(\"Aggregation:\\n\",df.agg({\"Sales_Amount\":[\"min\",\"max\",\"mean\"],\"Quantity_Sold\":[\"min\",\"max\",\"mean\"]}))"
   ]
  },
  {
   "cell_type": "code",
   "execution_count": 16,
   "id": "34e31feb-696c-494d-9f9e-d5396c94a291",
   "metadata": {},
   "outputs": [
    {
     "name": "stdout",
     "output_type": "stream",
     "text": [
      "Unique_salesRep:\n",
      " ['Bob' 'David' 'Charlie' 'Eve' 'Alice']\n",
      "Available Regions:\n",
      " ['North' 'West' 'South' 'East']\n"
     ]
    }
   ],
   "source": [
    "#unique sales person\n",
    "print(\"Unique_salesRep:\\n\",df[\"Sales_Rep\"].unique())\n",
    "#unique region\n",
    "print(\"Available Regions:\\n\",df[\"Region\"].unique())"
   ]
  },
  {
   "cell_type": "code",
   "execution_count": 18,
   "id": "305ae497-c62a-4767-9f54-63e07ad4a8fe",
   "metadata": {},
   "outputs": [
    {
     "data": {
      "text/html": [
       "<div>\n",
       "<style scoped>\n",
       "    .dataframe tbody tr th:only-of-type {\n",
       "        vertical-align: middle;\n",
       "    }\n",
       "\n",
       "    .dataframe tbody tr th {\n",
       "        vertical-align: top;\n",
       "    }\n",
       "\n",
       "    .dataframe thead th {\n",
       "        text-align: right;\n",
       "    }\n",
       "</style>\n",
       "<table border=\"1\" class=\"dataframe\">\n",
       "  <thead>\n",
       "    <tr style=\"text-align: right;\">\n",
       "      <th></th>\n",
       "      <th>Sales_Amount</th>\n",
       "      <th>Quantity_Sold</th>\n",
       "    </tr>\n",
       "    <tr>\n",
       "      <th>Region</th>\n",
       "      <th></th>\n",
       "      <th></th>\n",
       "    </tr>\n",
       "  </thead>\n",
       "  <tbody>\n",
       "    <tr>\n",
       "      <th>East</th>\n",
       "      <td>1259792.93</td>\n",
       "      <td>6356</td>\n",
       "    </tr>\n",
       "    <tr>\n",
       "      <th>North</th>\n",
       "      <td>1369612.51</td>\n",
       "      <td>6705</td>\n",
       "    </tr>\n",
       "    <tr>\n",
       "      <th>South</th>\n",
       "      <td>1154250.86</td>\n",
       "      <td>5808</td>\n",
       "    </tr>\n",
       "    <tr>\n",
       "      <th>West</th>\n",
       "      <td>1235608.93</td>\n",
       "      <td>6486</td>\n",
       "    </tr>\n",
       "  </tbody>\n",
       "</table>\n",
       "</div>"
      ],
      "text/plain": [
       "        Sales_Amount  Quantity_Sold\n",
       "Region                             \n",
       "East      1259792.93           6356\n",
       "North     1369612.51           6705\n",
       "South     1154250.86           5808\n",
       "West      1235608.93           6486"
      ]
     },
     "execution_count": 18,
     "metadata": {},
     "output_type": "execute_result"
    }
   ],
   "source": [
    "#give a sales amount and quantity by region\n",
    "df.groupby(\"Region\")[[\"Sales_Amount\",\"Quantity_Sold\"]].sum()"
   ]
  },
  {
   "cell_type": "code",
   "execution_count": 19,
   "id": "f0d293ed-b906-4182-b713-6e15a18f4f16",
   "metadata": {},
   "outputs": [
    {
     "data": {
      "text/plain": [
       "array(['Furniture', 'Food', 'Clothing', 'Electronics'], dtype=object)"
      ]
     },
     "execution_count": 19,
     "metadata": {},
     "output_type": "execute_result"
    }
   ],
   "source": [
    "#name of available products\n",
    "df[\"Product_Category\"].unique()"
   ]
  },
  {
   "cell_type": "code",
   "execution_count": 22,
   "id": "c9595215-109c-404b-9367-01635b554904",
   "metadata": {},
   "outputs": [
    {
     "data": {
      "text/plain": [
       "Product_Category\n",
       "Clothing       2470.587313\n",
       "Electronics    2545.330081\n",
       "Food           2407.998938\n",
       "Furniture      2472.416115\n",
       "Name: Unit_Cost, dtype: float64"
      ]
     },
     "execution_count": 22,
     "metadata": {},
     "output_type": "execute_result"
    }
   ],
   "source": [
    "#unit cost by product category\n",
    "df.groupby(\"Product_Category\")[\"Unit_Cost\"].mean()"
   ]
  },
  {
   "cell_type": "code",
   "execution_count": 36,
   "id": "6ee3f9a4-df25-4ddc-baf3-9eb1485cb4be",
   "metadata": {},
   "outputs": [
    {
     "name": "stdout",
     "output_type": "stream",
     "text": [
      "max salesrep: David -> 1141737.36\n",
      "min salesrep: Charlie -> 860811.48\n"
     ]
    }
   ],
   "source": [
    "#salesrep with more/less sales\n",
    "sales_rep=df.groupby(\"Sales_Rep\")[\"Sales_Amount\"].sum()\n",
    "print(\"max salesrep:\",sales_rep.idxmax(),\"->\",sales_rep.max())\n",
    "print(\"min salesrep:\",sales_rep.idxmin(),\"->\",sales_rep.min())\n"
   ]
  },
  {
   "cell_type": "code",
   "execution_count": 48,
   "id": "74994985-4c4a-406f-be9c-effdb1ec47ab",
   "metadata": {},
   "outputs": [
    {
     "name": "stdout",
     "output_type": "stream",
     "text": [
      "High Revenue Region: North -> 1369612.51\n",
      "Low Revenue Region: South -> 1154250.86\n",
      "High Quantity Region: North -> 6705\n",
      "Low Quantity Region: South -> 5808\n"
     ]
    }
   ],
   "source": [
    "#Region with high and low revenue and sales quatitu\n",
    "# Group by Region → sum Sales & Quantity\n",
    "region_totals = df.groupby(\"Region\")[[\"Sales_Amount\", \"Quantity_Sold\"]].sum()\n",
    "\n",
    "# High / Low Revenue\n",
    "high_rev_region = region_totals[\"Sales_Amount\"].idxmax()\n",
    "low_rev_region = region_totals[\"Sales_Amount\"].idxmin()\n",
    "\n",
    "print(\"High Revenue Region:\", high_rev_region, \n",
    "      \"->\", region_totals.loc[high_rev_region, \"Sales_Amount\"])\n",
    "\n",
    "print(\"Low Revenue Region:\", low_rev_region, \n",
    "      \"->\", region_totals.loc[low_rev_region, \"Sales_Amount\"])\n",
    "\n",
    "# High / Low Quantity\n",
    "high_qty_region = region_totals[\"Quantity_Sold\"].idxmax()\n",
    "low_qty_region = region_totals[\"Quantity_Sold\"].idxmin()\n",
    "\n",
    "print(\"High Quantity Region:\", high_qty_region, \n",
    "      \"->\", region_totals.loc[high_qty_region, \"Quantity_Sold\"])\n",
    "\n",
    "print(\"Low Quantity Region:\", low_qty_region, \n",
    "      \"->\", region_totals.loc[low_qty_region, \"Quantity_Sold\"])\n"
   ]
  },
  {
   "cell_type": "code",
   "execution_count": 5,
   "id": "4bfdbc52-7ff4-4112-ae61-73f484691581",
   "metadata": {},
   "outputs": [
    {
     "name": "stdout",
     "output_type": "stream",
     "text": [
      "['Returning' 'New']\n",
      "Customer_Type\n",
      "New          504\n",
      "Returning    496\n",
      "Name: count, dtype: int64\n"
     ]
    }
   ],
   "source": [
    "#list customer type\n",
    "import pandas as pd\n",
    "data=pd.read_csv(\"sales_data.csv\")\n",
    "df=pd.DataFrame(data)\n",
    "print(df[\"Customer_Type\"].unique())\n",
    "print(df[\"Customer_Type\"].value_counts())"
   ]
  },
  {
   "cell_type": "code",
   "execution_count": 6,
   "id": "21f663b4-f48f-459b-9d2d-91dd907ce33b",
   "metadata": {},
   "outputs": [
    {
     "data": {
      "text/plain": [
       "Sales_Channel\n",
       "Online    488\n",
       "Retail    512\n",
       "Name: Product_ID, dtype: int64"
      ]
     },
     "execution_count": 6,
     "metadata": {},
     "output_type": "execute_result"
    }
   ],
   "source": [
    "#no of sales in online/retail\n",
    "df.groupby(\"Sales_Channel\")[\"Product_ID\"].count()"
   ]
  },
  {
   "cell_type": "code",
   "execution_count": 12,
   "id": "f0fc7fa1-0432-4b0b-8c96-f7d29fe2ec74",
   "metadata": {},
   "outputs": [
    {
     "name": "stdout",
     "output_type": "stream",
     "text": [
      "       Product_Category  Quantity_Sold\n",
      "Region                                \n",
      "East           Clothing           1797\n",
      "North          Clothing           1939\n",
      "South              Food           1577\n",
      "West          Furniture           1889\n"
     ]
    }
   ],
   "source": [
    "#regio with famouse product\n",
    "famous=(df.groupby([\"Region\",\"Product_Category\"])[\"Quantity_Sold\"].sum().reset_index().sort_values([\"Region\",\"Quantity_Sold\"],ascending=[True,False]).groupby(\"Region\").first())\n",
    "print(famous)"
   ]
  },
  {
   "cell_type": "code",
   "execution_count": 20,
   "id": "a48d91cc-b41c-4e20-9b23-15d61aa3859e",
   "metadata": {},
   "outputs": [
    {
     "name": "stdout",
     "output_type": "stream",
     "text": [
      "Product_ID                       int64\n",
      "Sale_Date               datetime64[ns]\n",
      "Sales_Rep                       object\n",
      "Region                          object\n",
      "Sales_Amount                   float64\n",
      "Quantity_Sold                    int64\n",
      "Product_Category                object\n",
      "Unit_Cost                      float64\n",
      "Unit_Price                     float64\n",
      "Customer_Type                   object\n",
      "Discount                       float64\n",
      "Payment_Method                  object\n",
      "Sales_Channel                   object\n",
      "Region_and_Sales_Rep            object\n",
      "Year                             int32\n",
      "Month                            int32\n",
      "Day                              int32\n",
      "dtype: object\n"
     ]
    },
    {
     "data": {
      "text/plain": [
       "array([ 2,  4,  9,  8,  3,  1,  6, 10, 11, 12,  5,  7], dtype=int32)"
      ]
     },
     "execution_count": 20,
     "metadata": {},
     "output_type": "execute_result"
    }
   ],
   "source": [
    "df[\"Sale_Date\"] = pd.to_datetime(df[\"Sale_Date\"], errors=\"coerce\")\n",
    "print(df.dtypes)\n",
    "df[\"Year\"] = df[\"Sale_Date\"].dt.year\n",
    "df[\"Month\"] = df[\"Sale_Date\"].dt.month\n",
    "df[\"Day\"] = df[\"Sale_Date\"].dt.day\n",
    "df[\"Month\"].unique()"
   ]
  },
  {
   "cell_type": "code",
   "execution_count": 26,
   "id": "4c0ae7b8-635a-480d-958b-2df4465ed8d9",
   "metadata": {},
   "outputs": [
    {
     "data": {
      "text/html": [
       "<div>\n",
       "<style scoped>\n",
       "    .dataframe tbody tr th:only-of-type {\n",
       "        vertical-align: middle;\n",
       "    }\n",
       "\n",
       "    .dataframe tbody tr th {\n",
       "        vertical-align: top;\n",
       "    }\n",
       "\n",
       "    .dataframe thead th {\n",
       "        text-align: right;\n",
       "    }\n",
       "</style>\n",
       "<table border=\"1\" class=\"dataframe\">\n",
       "  <thead>\n",
       "    <tr style=\"text-align: right;\">\n",
       "      <th></th>\n",
       "      <th>Month</th>\n",
       "      <th>Sales_Amount</th>\n",
       "    </tr>\n",
       "  </thead>\n",
       "  <tbody>\n",
       "    <tr>\n",
       "      <th>0</th>\n",
       "      <td>1</td>\n",
       "      <td>495420.37</td>\n",
       "    </tr>\n",
       "    <tr>\n",
       "      <th>10</th>\n",
       "      <td>11</td>\n",
       "      <td>467482.90</td>\n",
       "    </tr>\n",
       "    <tr>\n",
       "      <th>9</th>\n",
       "      <td>10</td>\n",
       "      <td>460378.78</td>\n",
       "    </tr>\n",
       "    <tr>\n",
       "      <th>7</th>\n",
       "      <td>8</td>\n",
       "      <td>443171.28</td>\n",
       "    </tr>\n",
       "    <tr>\n",
       "      <th>3</th>\n",
       "      <td>4</td>\n",
       "      <td>438992.61</td>\n",
       "    </tr>\n",
       "    <tr>\n",
       "      <th>5</th>\n",
       "      <td>6</td>\n",
       "      <td>418458.34</td>\n",
       "    </tr>\n",
       "    <tr>\n",
       "      <th>2</th>\n",
       "      <td>3</td>\n",
       "      <td>402638.77</td>\n",
       "    </tr>\n",
       "    <tr>\n",
       "      <th>11</th>\n",
       "      <td>12</td>\n",
       "      <td>392643.58</td>\n",
       "    </tr>\n",
       "    <tr>\n",
       "      <th>4</th>\n",
       "      <td>5</td>\n",
       "      <td>389078.76</td>\n",
       "    </tr>\n",
       "    <tr>\n",
       "      <th>6</th>\n",
       "      <td>7</td>\n",
       "      <td>374242.88</td>\n",
       "    </tr>\n",
       "    <tr>\n",
       "      <th>1</th>\n",
       "      <td>2</td>\n",
       "      <td>368919.36</td>\n",
       "    </tr>\n",
       "    <tr>\n",
       "      <th>8</th>\n",
       "      <td>9</td>\n",
       "      <td>367837.60</td>\n",
       "    </tr>\n",
       "  </tbody>\n",
       "</table>\n",
       "</div>"
      ],
      "text/plain": [
       "    Month  Sales_Amount\n",
       "0       1     495420.37\n",
       "10     11     467482.90\n",
       "9      10     460378.78\n",
       "7       8     443171.28\n",
       "3       4     438992.61\n",
       "5       6     418458.34\n",
       "2       3     402638.77\n",
       "11     12     392643.58\n",
       "4       5     389078.76\n",
       "6       7     374242.88\n",
       "1       2     368919.36\n",
       "8       9     367837.60"
      ]
     },
     "execution_count": 26,
     "metadata": {},
     "output_type": "execute_result"
    }
   ],
   "source": [
    "#No of sales month wise & month with more sales\n",
    "import datetime as dt\n",
    "df[\"Month\"]=df[\"Sale_Date\"].dt.month\n",
    "df.groupby(\"Month\")[\"Sales_Amount\"].sum().reset_index().sort_values(\"Sales_Amount\",ascending=False)\n"
   ]
  },
  {
   "cell_type": "code",
   "execution_count": 31,
   "id": "980a8214-f691-4e52-b4fe-b1f304b24fcf",
   "metadata": {},
   "outputs": [
    {
     "data": {
      "text/html": [
       "<div>\n",
       "<style scoped>\n",
       "    .dataframe tbody tr th:only-of-type {\n",
       "        vertical-align: middle;\n",
       "    }\n",
       "\n",
       "    .dataframe tbody tr th {\n",
       "        vertical-align: top;\n",
       "    }\n",
       "\n",
       "    .dataframe thead th {\n",
       "        text-align: right;\n",
       "    }\n",
       "</style>\n",
       "<table border=\"1\" class=\"dataframe\">\n",
       "  <thead>\n",
       "    <tr style=\"text-align: right;\">\n",
       "      <th></th>\n",
       "      <th>Product_Category</th>\n",
       "      <th>Sales_Amount</th>\n",
       "    </tr>\n",
       "    <tr>\n",
       "      <th>Sales_Rep</th>\n",
       "      <th></th>\n",
       "      <th></th>\n",
       "    </tr>\n",
       "  </thead>\n",
       "  <tbody>\n",
       "    <tr>\n",
       "      <th>Alice</th>\n",
       "      <td>Electronics</td>\n",
       "      <td>262316.29</td>\n",
       "    </tr>\n",
       "    <tr>\n",
       "      <th>Bob</th>\n",
       "      <td>Food</td>\n",
       "      <td>312988.52</td>\n",
       "    </tr>\n",
       "    <tr>\n",
       "      <th>Charlie</th>\n",
       "      <td>Clothing</td>\n",
       "      <td>243329.67</td>\n",
       "    </tr>\n",
       "    <tr>\n",
       "      <th>David</th>\n",
       "      <td>Clothing</td>\n",
       "      <td>318184.84</td>\n",
       "    </tr>\n",
       "    <tr>\n",
       "      <th>Eve</th>\n",
       "      <td>Electronics</td>\n",
       "      <td>277780.56</td>\n",
       "    </tr>\n",
       "  </tbody>\n",
       "</table>\n",
       "</div>"
      ],
      "text/plain": [
       "          Product_Category  Sales_Amount\n",
       "Sales_Rep                               \n",
       "Alice          Electronics     262316.29\n",
       "Bob                   Food     312988.52\n",
       "Charlie           Clothing     243329.67\n",
       "David             Clothing     318184.84\n",
       "Eve            Electronics     277780.56"
      ]
     },
     "execution_count": 31,
     "metadata": {},
     "output_type": "execute_result"
    }
   ],
   "source": [
    "#Each Sales rep high selling product\n",
    "df.groupby([\"Sales_Rep\",\"Product_Category\"])[\"Sales_Amount\"].sum().reset_index().sort_values(\"Sales_Amount\",ascending=False).groupby(\"Sales_Rep\").first()"
   ]
  },
  {
   "cell_type": "code",
   "execution_count": 34,
   "id": "5f2c26c5-d148-4ecd-aebc-3ee686918378",
   "metadata": {},
   "outputs": [
    {
     "name": "stderr",
     "output_type": "stream",
     "text": [
      "C:\\Users\\agaly\\AppData\\Local\\Temp\\ipykernel_17372\\303432036.py:2: DeprecationWarning: DataFrameGroupBy.apply operated on the grouping columns. This behavior is deprecated, and in a future version of pandas the grouping columns will be excluded from the operation. Either pass `include_groups=False` to exclude the groupings or explicitly select the grouping columns after groupby to silence this warning.\n",
      "  df.groupby(\"Product_Category\").apply(lambda g:(g[\"Sales_Amount\"]*g[\"Discount\"]).sum())\n"
     ]
    },
    {
     "data": {
      "text/plain": [
       "Product_Category\n",
       "Clothing       217076.8703\n",
       "Electronics    165690.2339\n",
       "Food           186342.8587\n",
       "Furniture      201517.5292\n",
       "dtype: float64"
      ]
     },
     "execution_count": 34,
     "metadata": {},
     "output_type": "execute_result"
    }
   ],
   "source": [
    "#  Sales amount with discount for each category\n",
    "df.groupby(\"Product_Category\").apply(lambda g:(g[\"Sales_Amount\"]*g[\"Discount\"]).sum())\n"
   ]
  },
  {
   "cell_type": "code",
   "execution_count": 36,
   "id": "00efef98-cb5b-4a4a-9f8a-3156bfbc884f",
   "metadata": {},
   "outputs": [
    {
     "data": {
      "text/plain": [
       "<Axes: title={'center': 'Revenue By region'}, xlabel='Region'>"
      ]
     },
     "execution_count": 36,
     "metadata": {},
     "output_type": "execute_result"
    },
    {
     "data": {
      "image/png": "[encoded data removed]",
      "text/plain": [
       "<Figure size 640x480 with 1 Axes>"
      ]
     },
     "metadata": {},
     "output_type": "display_data"
    }
   ],
   "source": [
    "#Show Sales Amount by Region\n",
    "df.groupby(\"Region\")[\"Sales_Amount\"].sum().plot(kind='bar',color='Green',title=\"Revenue By region\")"
   ]
  },
  {
   "cell_type": "code",
   "execution_count": 40,
   "id": "475a811c-5475-4003-a980-810140e01e09",
   "metadata": {},
   "outputs": [
    {
     "data": {
      "text/plain": [
       "<Axes: title={'center': 'Unitsold by region'}, ylabel='Region'>"
      ]
     },
     "execution_count": 40,
     "metadata": {},
     "output_type": "execute_result"
    },
    {
     "data": {
      "image/png": "[encoded data removed]",
      "text/plain": [
       "<Figure size 640x480 with 1 Axes>"
      ]
     },
     "metadata": {},
     "output_type": "display_data"
    }
   ],
   "source": [
    "#Show Quantity Sold by Region\n",
    "df.groupby(\"Region\")[\"Quantity_Sold\"].sum().plot(kind='barh',color='blue',title=\"Unitsold by region\")\n"
   ]
  },
  {
   "cell_type": "code",
   "execution_count": 41,
   "id": "b5c3c8c8-55ee-42e2-8043-a16cc4d64a28",
   "metadata": {},
   "outputs": [
    {
     "data": {
      "text/plain": [
       "<Axes: title={'center': 'Monthly Sales Trend'}, xlabel='Month'>"
      ]
     },
     "execution_count": 41,
     "metadata": {},
     "output_type": "execute_result"
    },
    {
     "data": {
      "image/png": "[encoded data removed]",
      "text/plain": [
       "<Figure size 640x480 with 1 Axes>"
      ]
     },
     "metadata": {},
     "output_type": "display_data"
    }
   ],
   "source": [
    "#monthly sales\n",
    "df.groupby(\"Month\")[\"Sales_Amount\"].sum().plot(kind=\"line\", marker=\"o\", title=\"Monthly Sales Trend\")\n"
   ]
  },
  {
   "cell_type": "code",
   "execution_count": 42,
   "id": "3d7d6058-ba3f-4599-865a-d73bfd385e62",
   "metadata": {},
   "outputs": [
    {
     "data": {
      "text/plain": [
       "<Axes: title={'center': 'Top 10 Sales Reps'}, xlabel='Sales_Rep'>"
      ]
     },
     "execution_count": 42,
     "metadata": {},
     "output_type": "execute_result"
    },
    {
     "data": {
      "image/png": "[encoded data removed]",
      "text/plain": [
       "<Figure size 640x480 with 1 Axes>"
      ]
     },
     "metadata": {},
     "output_type": "display_data"
    }
   ],
   "source": [
    "#show Top 10 Sales Reps by Sales Amount\n",
    "df.groupby(\"Sales_Rep\")[\"Sales_Amount\"].sum().nlargest(10).plot(kind=\"bar\", title=\"Top 10 Sales Reps\")\n"
   ]
  },
  {
   "cell_type": "code",
   "execution_count": null,
   "id": "87b67bd8-e064-40cc-a883-64cb8e89b622",
   "metadata": {},
   "outputs": [],
   "source": []
  }
 ],
 "metadata": {
  "kernelspec": {
   "display_name": "Python [conda env:base] *",
   "language": "python",
   "name": "conda-base-py"
  },
  "language_info": {
   "codemirror_mode": {
    "name": "ipython",
    "version": 3
   },
   "file_extension": ".py",
   "mimetype": "text/x-python",
   "name": "python",
   "nbconvert_exporter": "python",
   "pygments_lexer": "ipython3",
   "version": "3.13.5"
  }
 },
 "nbformat": 4,
 "nbformat_minor": 5
}
